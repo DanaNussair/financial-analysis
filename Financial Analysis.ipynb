{
 "cells": [
  {
   "cell_type": "markdown",
   "id": "52a3d6c3",
   "metadata": {},
   "source": [
    "# Prepare data"
   ]
  },
  {
   "cell_type": "code",
   "execution_count": 81,
   "id": "417fe7c9",
   "metadata": {},
   "outputs": [],
   "source": [
    "import pandas as pd\n",
    "import numpy"
   ]
  },
  {
   "cell_type": "code",
   "execution_count": 85,
   "id": "e4844789",
   "metadata": {},
   "outputs": [],
   "source": [
    "sheets = ['Jan', 'Feb', 'March', 'Apr', 'May', 'Jun', 'Jul', 'Aug', 'Sep', 'Oct', 'Nov', 'Dec']\n",
    "file_path = '/Users/danaalnusair/Downloads/Bank Statement Analysis.xlsx'\n",
    "all_sheets = pd.read_excel(file_path, sheet_name=None)\n",
    "\n",
    "excluded_sheet = 'Dropdowns'\n",
    "all_sheets.pop(excluded_sheet, None)  # Remove the unwanted sheet\n",
    "\n",
    "combined_data = pd.concat(all_sheets.values(), ignore_index=True)"
   ]
  },
  {
   "cell_type": "code",
   "execution_count": 86,
   "id": "1bff6245",
   "metadata": {
    "scrolled": true
   },
   "outputs": [],
   "source": [
    "# combined_data"
   ]
  },
  {
   "cell_type": "code",
   "execution_count": 87,
   "id": "1306e805",
   "metadata": {},
   "outputs": [],
   "source": [
    "debited_df = combined_data[(combined_data['Transaction Type'] == 'Debit') & (combined_data['Category'] != 'Savings')]\n",
    "credited_df = combined_data[(combined_data['Transaction Type'] == 'Credit')]"
   ]
  },
  {
   "cell_type": "markdown",
   "id": "1f0a491d",
   "metadata": {},
   "source": [
    "# Travel Expenses"
   ]
  },
  {
   "cell_type": "code",
   "execution_count": 88,
   "id": "431249bc",
   "metadata": {
    "scrolled": false
   },
   "outputs": [],
   "source": [
    "travel_debited_df = debited_df[debited_df['Location'] != 'Jordan']\n",
    "travel_credited_df = credited_df[credited_df['Location'] != 'Jordan']"
   ]
  },
  {
   "cell_type": "code",
   "execution_count": 89,
   "id": "e45cd2e4",
   "metadata": {},
   "outputs": [
    {
     "data": {
      "text/html": [
       "<div>\n",
       "<style scoped>\n",
       "    .dataframe tbody tr th:only-of-type {\n",
       "        vertical-align: middle;\n",
       "    }\n",
       "\n",
       "    .dataframe tbody tr th {\n",
       "        vertical-align: top;\n",
       "    }\n",
       "\n",
       "    .dataframe thead th {\n",
       "        text-align: right;\n",
       "    }\n",
       "</style>\n",
       "<table border=\"1\" class=\"dataframe\">\n",
       "  <thead>\n",
       "    <tr style=\"text-align: right;\">\n",
       "      <th></th>\n",
       "      <th>(—) Debit (+) Credit</th>\n",
       "    </tr>\n",
       "    <tr>\n",
       "      <th>Location</th>\n",
       "      <th></th>\n",
       "    </tr>\n",
       "  </thead>\n",
       "  <tbody>\n",
       "    <tr>\n",
       "      <th>Germany</th>\n",
       "      <td>36.359</td>\n",
       "    </tr>\n",
       "    <tr>\n",
       "      <th>Turkey</th>\n",
       "      <td>2847.626</td>\n",
       "    </tr>\n",
       "    <tr>\n",
       "      <th>UK</th>\n",
       "      <td>2784.840</td>\n",
       "    </tr>\n",
       "  </tbody>\n",
       "</table>\n",
       "</div>"
      ],
      "text/plain": [
       "          (—) Debit (+) Credit\n",
       "Location                      \n",
       "Germany                 36.359\n",
       "Turkey                2847.626\n",
       "UK                    2784.840"
      ]
     },
     "execution_count": 89,
     "metadata": {},
     "output_type": "execute_result"
    }
   ],
   "source": [
    "grouped_debited = travel_debited_df.groupby('Location').sum().abs()\n",
    "grouped_debited"
   ]
  },
  {
   "cell_type": "code",
   "execution_count": 90,
   "id": "263a6d29",
   "metadata": {},
   "outputs": [
    {
     "data": {
      "text/html": [
       "<div>\n",
       "<style scoped>\n",
       "    .dataframe tbody tr th:only-of-type {\n",
       "        vertical-align: middle;\n",
       "    }\n",
       "\n",
       "    .dataframe tbody tr th {\n",
       "        vertical-align: top;\n",
       "    }\n",
       "\n",
       "    .dataframe thead th {\n",
       "        text-align: right;\n",
       "    }\n",
       "</style>\n",
       "<table border=\"1\" class=\"dataframe\">\n",
       "  <thead>\n",
       "    <tr style=\"text-align: right;\">\n",
       "      <th></th>\n",
       "      <th>(—) Debit (+) Credit</th>\n",
       "    </tr>\n",
       "    <tr>\n",
       "      <th>Location</th>\n",
       "      <th></th>\n",
       "    </tr>\n",
       "  </thead>\n",
       "  <tbody>\n",
       "    <tr>\n",
       "      <th>Germany</th>\n",
       "      <td>0.00</td>\n",
       "    </tr>\n",
       "    <tr>\n",
       "      <th>Turkey</th>\n",
       "      <td>0.00</td>\n",
       "    </tr>\n",
       "    <tr>\n",
       "      <th>UK</th>\n",
       "      <td>60.68</td>\n",
       "    </tr>\n",
       "  </tbody>\n",
       "</table>\n",
       "</div>"
      ],
      "text/plain": [
       "          (—) Debit (+) Credit\n",
       "Location                      \n",
       "Germany                   0.00\n",
       "Turkey                    0.00\n",
       "UK                       60.68"
      ]
     },
     "execution_count": 90,
     "metadata": {},
     "output_type": "execute_result"
    }
   ],
   "source": [
    "grouped_credited = travel_credited_df.groupby('Location').sum().abs()\n",
    "# Match the grouped_credited with grouped_debited and fill in the NaN values with zeros.\n",
    "grouped_credited = grouped_credited.reindex(grouped_debited.index, fill_value=0)\n",
    "grouped_credited"
   ]
  },
  {
   "cell_type": "markdown",
   "id": "aa8cacc9",
   "metadata": {},
   "source": [
    "#### All travel spending (taking refunds into account)"
   ]
  },
  {
   "cell_type": "code",
   "execution_count": 91,
   "id": "9f8896c9",
   "metadata": {},
   "outputs": [
    {
     "data": {
      "text/html": [
       "<div>\n",
       "<style scoped>\n",
       "    .dataframe tbody tr th:only-of-type {\n",
       "        vertical-align: middle;\n",
       "    }\n",
       "\n",
       "    .dataframe tbody tr th {\n",
       "        vertical-align: top;\n",
       "    }\n",
       "\n",
       "    .dataframe thead th {\n",
       "        text-align: right;\n",
       "    }\n",
       "</style>\n",
       "<table border=\"1\" class=\"dataframe\">\n",
       "  <thead>\n",
       "    <tr style=\"text-align: right;\">\n",
       "      <th></th>\n",
       "      <th>(—) Debit (+) Credit</th>\n",
       "    </tr>\n",
       "    <tr>\n",
       "      <th>Location</th>\n",
       "      <th></th>\n",
       "    </tr>\n",
       "  </thead>\n",
       "  <tbody>\n",
       "    <tr>\n",
       "      <th>Germany</th>\n",
       "      <td>36.359</td>\n",
       "    </tr>\n",
       "    <tr>\n",
       "      <th>Turkey</th>\n",
       "      <td>2847.626</td>\n",
       "    </tr>\n",
       "    <tr>\n",
       "      <th>UK</th>\n",
       "      <td>2724.160</td>\n",
       "    </tr>\n",
       "  </tbody>\n",
       "</table>\n",
       "</div>"
      ],
      "text/plain": [
       "          (—) Debit (+) Credit\n",
       "Location                      \n",
       "Germany                 36.359\n",
       "Turkey                2847.626\n",
       "UK                    2724.160"
      ]
     },
     "execution_count": 91,
     "metadata": {},
     "output_type": "execute_result"
    }
   ],
   "source": [
    "grouped_debited - grouped_credited"
   ]
  },
  {
   "cell_type": "markdown",
   "id": "f3d4efa4",
   "metadata": {},
   "source": [
    "# Jordan Expenses"
   ]
  },
  {
   "cell_type": "code",
   "execution_count": 92,
   "id": "0abefe60",
   "metadata": {},
   "outputs": [
    {
     "data": {
      "text/html": [
       "<div>\n",
       "<style scoped>\n",
       "    .dataframe tbody tr th:only-of-type {\n",
       "        vertical-align: middle;\n",
       "    }\n",
       "\n",
       "    .dataframe tbody tr th {\n",
       "        vertical-align: top;\n",
       "    }\n",
       "\n",
       "    .dataframe thead th {\n",
       "        text-align: right;\n",
       "    }\n",
       "</style>\n",
       "<table border=\"1\" class=\"dataframe\">\n",
       "  <thead>\n",
       "    <tr style=\"text-align: right;\">\n",
       "      <th></th>\n",
       "      <th>(—) Debit (+) Credit</th>\n",
       "    </tr>\n",
       "    <tr>\n",
       "      <th>Category</th>\n",
       "      <th></th>\n",
       "    </tr>\n",
       "  </thead>\n",
       "  <tbody>\n",
       "    <tr>\n",
       "      <th>Account Commission</th>\n",
       "      <td>17.500</td>\n",
       "    </tr>\n",
       "    <tr>\n",
       "      <th>Beauty</th>\n",
       "      <td>26.900</td>\n",
       "    </tr>\n",
       "    <tr>\n",
       "      <th>Bill</th>\n",
       "      <td>268.481</td>\n",
       "    </tr>\n",
       "    <tr>\n",
       "      <th>Cash (ATM)</th>\n",
       "      <td>380.000</td>\n",
       "    </tr>\n",
       "    <tr>\n",
       "      <th>CliQ</th>\n",
       "      <td>591.000</td>\n",
       "    </tr>\n",
       "    <tr>\n",
       "      <th>Electronics</th>\n",
       "      <td>132.500</td>\n",
       "    </tr>\n",
       "    <tr>\n",
       "      <th>Gas</th>\n",
       "      <td>87.600</td>\n",
       "    </tr>\n",
       "    <tr>\n",
       "      <th>Gift</th>\n",
       "      <td>188.000</td>\n",
       "    </tr>\n",
       "    <tr>\n",
       "      <th>Grocery</th>\n",
       "      <td>35.660</td>\n",
       "    </tr>\n",
       "    <tr>\n",
       "      <th>Home</th>\n",
       "      <td>11.500</td>\n",
       "    </tr>\n",
       "    <tr>\n",
       "      <th>Restaurant</th>\n",
       "      <td>79.332</td>\n",
       "    </tr>\n",
       "    <tr>\n",
       "      <th>Zain Cash</th>\n",
       "      <td>350.200</td>\n",
       "    </tr>\n",
       "  </tbody>\n",
       "</table>\n",
       "</div>"
      ],
      "text/plain": [
       "                    (—) Debit (+) Credit\n",
       "Category                                \n",
       "Account Commission                17.500\n",
       "Beauty                            26.900\n",
       "Bill                             268.481\n",
       "Cash (ATM)                       380.000\n",
       "CliQ                             591.000\n",
       "Electronics                      132.500\n",
       "Gas                               87.600\n",
       "Gift                             188.000\n",
       "Grocery                           35.660\n",
       "Home                              11.500\n",
       "Restaurant                        79.332\n",
       "Zain Cash                        350.200"
      ]
     },
     "execution_count": 92,
     "metadata": {},
     "output_type": "execute_result"
    }
   ],
   "source": [
    "jordan_data = debited_df[debited_df['Location'] == 'Jordan']\n",
    "jordan_data.groupby('Category').sum().abs()"
   ]
  },
  {
   "cell_type": "code",
   "execution_count": null,
   "id": "51462526",
   "metadata": {},
   "outputs": [],
   "source": []
  },
  {
   "cell_type": "code",
   "execution_count": null,
   "id": "1dacfee0",
   "metadata": {},
   "outputs": [],
   "source": []
  }
 ],
 "metadata": {
  "kernelspec": {
   "display_name": "Python 3 (ipykernel)",
   "language": "python",
   "name": "python3"
  },
  "language_info": {
   "codemirror_mode": {
    "name": "ipython",
    "version": 3
   },
   "file_extension": ".py",
   "mimetype": "text/x-python",
   "name": "python",
   "nbconvert_exporter": "python",
   "pygments_lexer": "ipython3",
   "version": "3.9.6"
  }
 },
 "nbformat": 4,
 "nbformat_minor": 5
}

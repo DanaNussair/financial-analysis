{
 "cells": [
  {
   "cell_type": "markdown",
   "id": "52a3d6c3",
   "metadata": {},
   "source": [
    "# Prepare data"
   ]
  },
  {
   "cell_type": "code",
   "execution_count": null,
   "id": "417fe7c9",
   "metadata": {},
   "outputs": [],
   "source": [
    "import pandas as pd\n",
    "import numpy"
   ]
  },
  {
   "cell_type": "code",
   "execution_count": null,
   "id": "e4844789",
   "metadata": {},
   "outputs": [],
   "source": [
    "sheets = ['Jan', 'Feb', 'March', 'Apr', 'May', 'Jun', 'Jul', 'Aug', 'Sep', 'Oct', 'Nov', 'Dec']\n",
    "file_path = '/Users/danaalnusair/Downloads/Bank Statement Analysis.xlsx'\n",
    "all_sheets = pd.read_excel(file_path, sheet_name=None)\n",
    "\n",
    "excluded_sheet = 'Dropdowns'\n",
    "all_sheets.pop(excluded_sheet, None)  # Remove the unwanted sheet\n",
    "\n",
    "combined_data = pd.concat(all_sheets.values(), ignore_index=True)"
   ]
  },
  {
   "cell_type": "code",
   "execution_count": null,
   "id": "1bff6245",
   "metadata": {
    "scrolled": true
   },
   "outputs": [],
   "source": [
    "# combined_data"
   ]
  },
  {
   "cell_type": "code",
   "execution_count": null,
   "id": "1306e805",
   "metadata": {},
   "outputs": [],
   "source": [
    "debited_df = combined_data[(combined_data['Transaction Type'] == 'Debit') & (combined_data['Category'] != 'Savings')]\n",
    "credited_df = combined_data[(combined_data['Transaction Type'] == 'Credit')]"
   ]
  },
  {
   "cell_type": "markdown",
   "id": "1f0a491d",
   "metadata": {},
   "source": [
    "# Travel Expenses"
   ]
  },
  {
   "cell_type": "code",
   "execution_count": null,
   "id": "431249bc",
   "metadata": {
    "scrolled": false
   },
   "outputs": [],
   "source": [
    "travel_debited_df = debited_df[debited_df['Location'] != 'Jordan']\n",
    "travel_credited_df = credited_df[credited_df['Location'] != 'Jordan']"
   ]
  },
  {
   "cell_type": "code",
   "execution_count": null,
   "id": "e45cd2e4",
   "metadata": {},
   "outputs": [],
   "source": [
    "grouped_debited = travel_debited_df.groupby('Location').sum().abs()\n",
    "grouped_debited"
   ]
  },
  {
   "cell_type": "code",
   "execution_count": null,
   "id": "263a6d29",
   "metadata": {},
   "outputs": [],
   "source": [
    "grouped_credited = travel_credited_df.groupby('Location').sum().abs()\n",
    "# Match the grouped_credited with grouped_debited and fill in the NaN values with zeros.\n",
    "grouped_credited = grouped_credited.reindex(grouped_debited.index, fill_value=0)\n",
    "grouped_credited"
   ]
  },
  {
   "cell_type": "markdown",
   "id": "aa8cacc9",
   "metadata": {},
   "source": [
    "#### All travel spending (taking refunds into account)"
   ]
  },
  {
   "cell_type": "code",
   "execution_count": null,
   "id": "9f8896c9",
   "metadata": {},
   "outputs": [],
   "source": [
    "grouped_debited - grouped_credited"
   ]
  },
  {
   "cell_type": "markdown",
   "id": "f3d4efa4",
   "metadata": {},
   "source": [
    "# Jordan Expenses"
   ]
  },
  {
   "cell_type": "code",
   "execution_count": null,
   "id": "0abefe60",
   "metadata": {},
   "outputs": [],
   "source": [
    "jordan_data = debited_df[debited_df['Location'] == 'Jordan']\n",
    "jordan_data.groupby('Category').sum().abs()"
   ]
  }
 ],
 "metadata": {
  "kernelspec": {
   "display_name": "Python 3 (ipykernel)",
   "language": "python",
   "name": "python3"
  },
  "language_info": {
   "codemirror_mode": {
    "name": "ipython",
    "version": 3
   },
   "file_extension": ".py",
   "mimetype": "text/x-python",
   "name": "python",
   "nbconvert_exporter": "python",
   "pygments_lexer": "ipython3",
   "version": "3.9.6"
  }
 },
 "nbformat": 4,
 "nbformat_minor": 5
}
